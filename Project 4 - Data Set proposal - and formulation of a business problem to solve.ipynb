{
 "cells": [
  {
   "cell_type": "markdown",
   "metadata": {},
   "source": [
    "Project 4: Initial submission of dataset and formulation of business problem to resolve"
   ]
  },
  {
   "cell_type": "markdown",
   "metadata": {},
   "source": [
    "Link to the dataset: \n",
    "https://www.kaggle.com/blastchar/telco-customer-churn/home"
   ]
  },
  {
   "cell_type": "markdown",
   "metadata": {},
   "source": [
    "# Problem:\n",
    "\n",
    "We have a set of 7044 telco customers who almost all (90%) have opened a telephone line with us.\n",
    "\n",
    "Business problem: Driving retention is always a crucial part of a subscription based business (SaaS or Telcos). The challenge is that each organization tends to have its unique recipe to retain a customer and the risks and reasons for customers to churn will vary heavily from one business to another. This is why machine learning and custom predictive algorithms need to be put in place, so that Customer success managers can have a clear ideas of the potential chrun risks in their portfolio as well as when and how to prioritise their efforts.\n",
    "\n",
    "\n",
    "Unsupervised learning:\n",
    "\n",
    "   Identifying our persona - A persona is an ideal/fictional representation of your customer. Our data gives us both information on product consumption, overall budget/spending, and demographic data. \n",
    "   \n",
    "   My idea is to use unsupervised learning techniques (clustering) to categorize customers, based on both their Group age / Digital Savviness (based on the number and type of product purchased) and their purchasing power (based on their total life spending relative to their lifetime as a customer)\n",
    "   \n",
    "\n",
    "Supervised learning:\n",
    "\n",
    "\n",
    "Goal: To predict whether a customer does have a churn risk when he comes on board.\n",
    "\n",
    "\n",
    "Based on my initial findings (and time constrains), posiblities to go further than the initial goal include:\n",
    "\n",
    "  Predict the estimated tenure of a customer that is identified as a churn risk.\n",
    "  \n",
    "  To go one step further, we could add an extra prediction called \"Likelihood to churn\" - that represents the chance of a customer to churn based on his / her level of similarity with other customers in the same category. We could even identify tis likeliood to churn within the next 12 months or the period of time through which the customer will most likely churn. \n",
    "  \n",
    " The latter could be extremely useful to help our customer service line / customer success managers know when to reach out to a customer or how to prioritize their handling of complaints based on the likelihood to churn and based on how soon a customr will churn.\n",
    " \n",
    " Another interesting idea could be to identify which service tends to drive the highest retention for each customer category. By knowing this factor, a customer success manager could obtain relevant recommendations about which service type to offer / discount to a someone who complains and is identified as having a high chance to churn.\n",
    "\n",
    "If time allows for it, I would love to also be able to predict the estimated lifetime value of a customer. Although having an idea of the likelihood to churn is most essential to a customer success manager, knowing the predicted lifetime value can give further insights on how to prioritise their handling of customers.\n",
    "\n",
    " \n",
    "Potential Limitations:\n",
    "\n",
    "\n",
    "'- Not having enough contextual data outside of the budget, demographics and product consumption (such as the current sentiment on the brand from the customer or the number of support tickets being filed in their lifetime)\n",
    "\n",
    "'- Another potential issue is to obtain too many clusters of customers, and thus not enough customers per group to be able to make significatn conclusions.\n",
    "   \n",
    "   \n",
    "   \n",
    "\n",
    "\n"
   ]
  },
  {
   "cell_type": "code",
   "execution_count": null,
   "metadata": {},
   "outputs": [],
   "source": []
  },
  {
   "cell_type": "code",
   "execution_count": null,
   "metadata": {},
   "outputs": [],
   "source": []
  }
 ],
 "metadata": {
  "kernelspec": {
   "display_name": "Python 3",
   "language": "python",
   "name": "python3"
  },
  "language_info": {
   "codemirror_mode": {
    "name": "ipython",
    "version": 3
   },
   "file_extension": ".py",
   "mimetype": "text/x-python",
   "name": "python",
   "nbconvert_exporter": "python",
   "pygments_lexer": "ipython3",
   "version": "3.6.4"
  }
 },
 "nbformat": 4,
 "nbformat_minor": 2
}
